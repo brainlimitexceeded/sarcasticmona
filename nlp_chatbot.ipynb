{
  "nbformat": 4,
  "nbformat_minor": 0,
  "metadata": {
    "colab": {
      "provenance": [],
      "authorship_tag": "ABX9TyM4nDZHL3/pXqbgZbL/oyln",
      "include_colab_link": true
    },
    "kernelspec": {
      "name": "python3",
      "display_name": "Python 3"
    },
    "language_info": {
      "name": "python"
    }
  },
  "cells": [
    {
      "cell_type": "markdown",
      "metadata": {
        "id": "view-in-github",
        "colab_type": "text"
      },
      "source": [
        "<a href=\"https://colab.research.google.com/github/brainlimitexceeded/sarcasticmona/blob/main/nlp_chatbot.ipynb\" target=\"_parent\"><img src=\"https://colab.research.google.com/assets/colab-badge.svg\" alt=\"Open In Colab\"/></a>"
      ]
    },
    {
      "cell_type": "code",
      "execution_count": 13,
      "metadata": {
        "colab": {
          "base_uri": "https://localhost:8080/"
        },
        "id": "4Z7dYepg6g8g",
        "outputId": "f432e4c8-7206-46f9-88c7-251dc019731b"
      },
      "outputs": [
        {
          "output_type": "stream",
          "name": "stderr",
          "text": [
            "[nltk_data] Downloading package punkt to /root/nltk_data...\n",
            "[nltk_data]   Package punkt is already up-to-date!\n",
            "[nltk_data] Downloading package wordnet to /root/nltk_data...\n",
            "[nltk_data]   Package wordnet is already up-to-date!\n"
          ]
        }
      ],
      "source": [
        "from pickle import TRUE\n",
        "import numpy as np\n",
        "import nltk\n",
        "import string\n",
        "import random\n",
        "f = open('chatbot.txt','r',errors='ignore')\n",
        "raw = f.read().lower()\n",
        "nltk.download('punkt')\n",
        "nltk.download('wordnet')\n",
        "sent = nltk.sent_tokenize(raw)\n",
        "word = nltk.word_tokenize(raw)\n",
        "\n",
        "lem = nltk.stem.WordNetLemmatizer()\n",
        "def tokenize(tokens):\n",
        "  return [lem.lemmatize(token) for token in tokens]\n",
        "remove_punc = dict((ord(punc),None) for punc in string.punctuation)\n",
        "def normalize(text):\n",
        "  return lem(nltk.word_tokenize(text.lower().translate(remove_punc)))\n",
        "\n",
        "i = (\"hello\",\"hi\")\n",
        "outputs = [\"Hi\",\"*nods*\"]\n",
        "def greet(s):\n",
        "  for word in s.split():\n",
        "    if word.lower() in i:\n",
        "      return random.choice(outputs)\n",
        "\n",
        "from sklearn.feature_extraction.text import TfidfVectorizer\n",
        "from sklearn.metrics.pairwise import cosine_similarity\n",
        "\n",
        "def respond(resp):\n",
        "  response = ''\n",
        "  vector = TfidfVectorizer(tokenizer=lem, stop_words='english')\n",
        "  tfidf = vector.fit_transform(sent)\n",
        "  vals = cosine_similarity(tfidf[-1],tfidf)\n",
        "  idx = vals.argsort()[0][-2]\n",
        "  flat = vals.flatten()\n",
        "  flat.sort()\n",
        "  req = flat[-2]\n",
        "  if req == 0:\n",
        "    resp = \"I don't have the answer to everything.\"\n",
        "  else:\n",
        "    resp = sent[idx]\n",
        "  return resp"
      ]
    },
    {
      "cell_type": "code",
      "source": [
        "flag = True\n",
        "print(\"Mona: Hi, I am Mona. Let's begin a conversation. Say bye when you are done.\")\n",
        "while(flag):\n",
        "  user_resp = input()\n",
        "  if user_resp == \"bye\":\n",
        "    flag = False\n",
        "    print(\"See you again!\")\n",
        "  else:\n",
        "    if user_resp in i:\n",
        "      print(\"Mona:\",greet(user_resp))\n",
        "    else:\n",
        "      sent.append(user_resp)\n",
        "      word+=nltk.word_tokenize(user_resp)\n",
        "      final = list(set(word))\n",
        "      print(\"Mona:\",respond(user_resp))\n",
        "      sent.remove(user_resp)"
      ],
      "metadata": {
        "colab": {
          "base_uri": "https://localhost:8080/",
          "height": 258
        },
        "id": "1IZ7YbK0h2qL",
        "outputId": "e3829aa8-18ef-4966-88a7-0f0fa8bcfb76"
      },
      "execution_count": 14,
      "outputs": [
        {
          "output_type": "stream",
          "name": "stdout",
          "text": [
            "Mona: Hi, I am Mona. Let's begin a conversation. Say bye when you are done. ('hello', 'hi')\n"
          ]
        },
        {
          "output_type": "error",
          "ename": "TypeError",
          "evalue": "ignored",
          "traceback": [
            "\u001b[0;31m---------------------------------------------------------------------------\u001b[0m",
            "\u001b[0;31mTypeError\u001b[0m                                 Traceback (most recent call last)",
            "\u001b[0;32m<ipython-input-14-21a6ccc2b83c>\u001b[0m in \u001b[0;36m<module>\u001b[0;34m\u001b[0m\n\u001b[1;32m      2\u001b[0m \u001b[0mprint\u001b[0m\u001b[0;34m(\u001b[0m\u001b[0;34m\"Mona: Hi, I am Mona. Let's begin a conversation. Say bye when you are done.\"\u001b[0m\u001b[0;34m,\u001b[0m\u001b[0minput\u001b[0m\u001b[0;34m)\u001b[0m\u001b[0;34m\u001b[0m\u001b[0;34m\u001b[0m\u001b[0m\n\u001b[1;32m      3\u001b[0m \u001b[0;32mwhile\u001b[0m\u001b[0;34m(\u001b[0m\u001b[0mflag\u001b[0m\u001b[0;34m)\u001b[0m\u001b[0;34m:\u001b[0m\u001b[0;34m\u001b[0m\u001b[0;34m\u001b[0m\u001b[0m\n\u001b[0;32m----> 4\u001b[0;31m   \u001b[0muser_resp\u001b[0m \u001b[0;34m=\u001b[0m \u001b[0minput\u001b[0m\u001b[0;34m(\u001b[0m\u001b[0;34m)\u001b[0m\u001b[0;34m\u001b[0m\u001b[0;34m\u001b[0m\u001b[0m\n\u001b[0m\u001b[1;32m      5\u001b[0m   \u001b[0;32mif\u001b[0m \u001b[0muser_resp\u001b[0m \u001b[0;34m==\u001b[0m \u001b[0;34m\"bye\"\u001b[0m\u001b[0;34m:\u001b[0m\u001b[0;34m\u001b[0m\u001b[0;34m\u001b[0m\u001b[0m\n\u001b[1;32m      6\u001b[0m     \u001b[0mflag\u001b[0m \u001b[0;34m=\u001b[0m \u001b[0;32mFalse\u001b[0m\u001b[0;34m\u001b[0m\u001b[0;34m\u001b[0m\u001b[0m\n",
            "\u001b[0;31mTypeError\u001b[0m: 'tuple' object is not callable"
          ]
        }
      ]
    }
  ]
}